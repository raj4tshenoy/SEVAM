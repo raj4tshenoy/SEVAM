{
  "nbformat": 4,
  "nbformat_minor": 0,
  "metadata": {
    "colab": {
      "name": "Predictions.ipynb",
      "version": "0.3.2",
      "provenance": [],
      "collapsed_sections": [],
      "include_colab_link": true
    },
    "kernelspec": {
      "name": "python3",
      "display_name": "Python 3"
    }
  },
  "cells": [
    {
      "cell_type": "markdown",
      "metadata": {
        "id": "view-in-github",
        "colab_type": "text"
      },
      "source": [
        "<a href=\"https://colab.research.google.com/github/akshatha-k/Code.fun.do.2019/blob/master/Predictions.ipynb\" target=\"_parent\"><img src=\"https://colab.research.google.com/assets/colab-badge.svg\" alt=\"Open In Colab\"/></a>"
      ]
    },
    {
      "cell_type": "code",
      "metadata": {
        "id": "_8GlLENFo5ng",
        "colab_type": "code",
        "colab": {}
      },
      "source": [
        "! wget https://transfer.sh/Qt4sq/all_women.csv"
      ],
      "execution_count": 0,
      "outputs": []
    },
    {
      "cell_type": "code",
      "metadata": {
        "id": "wnS-EjdBpArJ",
        "colab_type": "code",
        "colab": {}
      },
      "source": [
        "'''\n",
        "Code to perform preedictions and analse various data such as the number of women voters -districtwise, \n",
        "and the predicted number of women in the next election. Similarly other predictions include the correlation between\n",
        "literacy and voter turnout , number of total voters, affect of poverty etc, thus enabling us to better understand factors affecting \n",
        "elections and expenditure'''\n",
        "\n",
        "# Importing the necessary libraries\n",
        "import pandas as pd\n",
        "import matplotlib.pyplot as plt\n",
        "import numpy as np\n",
        "\n",
        "# perc 09 - Percentage of Women's votes over total votes polled - 2009\n",
        "w_vote = pd.read_csv('all_women.csv', names = ['states','total','literacy01','literacy11','perc09','perc14'])\n",
        "\n",
        "# Splitting the data into test and training tests in a 80:20 rati\n",
        "x_train = w_vote.literacy01.values.reshape(-1,1)\n",
        "y_train = w_vote.perc09.values\n",
        "\n",
        "x_test = w_vote.literacy11.values.reshape(-1,1)\n",
        "y_test = w_vote.perc14.values\n"
      ],
      "execution_count": 0,
      "outputs": []
    },
    {
      "cell_type": "code",
      "metadata": {
        "id": "TqL1b6ITNFiQ",
        "colab_type": "code",
        "colab": {}
      },
      "source": [
        "# Fit a linear regression line of best fit on the data to predict votes\n",
        "from sklearn.linear_model import LinearRegression\n",
        "rf = LinearRegression()\n",
        "rf.fit(x_train, y_train)"
      ],
      "execution_count": 0,
      "outputs": []
    },
    {
      "cell_type": "code",
      "metadata": {
        "id": "DQQyHrBSq1Oz",
        "colab_type": "code",
        "outputId": "e1017910-8e50-485f-bf9b-b200fe288491",
        "colab": {
          "base_uri": "https://localhost:8080/",
          "height": 35
        }
      },
      "source": [
        "# import keras\n",
        "# from keras.models import Sequential\n",
        "# from keras.layers import Dense\n",
        "\n",
        "# clf = Sequential()\n",
        "# clf.add(Dense(8, input_dim = 1, activation = 'relu'))\n",
        "# clf.add(Dense(4, activation = 'relu'))\n",
        "# clf.add(Dense(1, activation=\"softmax\"))\n",
        "# clf.compile(loss='mean_squared_error', optimizer='adam')\n",
        "\n",
        "\n",
        "# clf.fit(x_train, y_train, epochs=10000, batch_size=4)\n",
        "# # y_pred = clf.predict(x_test, batch_size = 32)\n",
        "\n",
        "# loss_and_metrics = clf.evaluate(x_test, y_test, batch_size=128)\n",
        "# print(loss_and_metrics)"
      ],
      "execution_count": 0,
      "outputs": [
        {
          "output_type": "execute_result",
          "data": {
            "text/plain": [
              "LinearRegression(copy_X=True, fit_intercept=True, n_jobs=None, normalize=False)"
            ]
          },
          "metadata": {
            "tags": []
          },
          "execution_count": 12
        }
      ]
    },
    {
      "cell_type": "code",
      "metadata": {
        "id": "JDM8mrfPBhbG",
        "colab_type": "code",
        "colab": {}
      },
      "source": [
        "# Random Forest Regression implementation to compare based on the common metrics\n",
        "from sklearn.ensemble import RandomForestRegressor\n",
        "rf = RandomForestRegressor(n_estimators = 2000, random_state = 42)\n",
        "rf.fit(x_train, y_train)"
      ],
      "execution_count": 0,
      "outputs": []
    },
    {
      "cell_type": "code",
      "metadata": {
        "id": "Da0Ps3IZse9k",
        "colab_type": "code",
        "outputId": "aa998060-c68c-442a-f526-acf6622bacf0",
        "colab": {
          "base_uri": "https://localhost:8080/",
          "height": 69
        }
      },
      "source": [
        "# Computer the errors using popular error metrics\n",
        "y_pred = rf.predict(x_test)\n",
        "from sklearn import metrics  \n",
        "print('Mean Absolute Error:', metrics.mean_absolute_error(y_test, y_pred))  \n",
        "print('Mean Squared Error:', metrics.mean_squared_error(y_test, y_pred))  \n",
        "print('Root Mean Squared Error:', np.sqrt(metrics.mean_squared_error(y_test, y_pred))) "
      ],
      "execution_count": 0,
      "outputs": [
        {
          "output_type": "stream",
          "text": [
            "Mean Absolute Error: 8.752324632950579\n",
            "Mean Squared Error: 110.82086306865557\n",
            "Root Mean Squared Error: 10.527148857532868\n"
          ],
          "name": "stdout"
        }
      ]
    },
    {
      "cell_type": "code",
      "metadata": {
        "id": "WrV96Le0DGLU",
        "colab_type": "code",
        "outputId": "a5658a60-68c8-47ad-9a43-69478eae4dc3",
        "colab": {
          "base_uri": "https://localhost:8080/",
          "height": 469
        }
      },
      "source": [
        "#Visualisations to better understand the data\n",
        "x = np.arange(34)\n",
        "plt.xticks(x, w_vote.states,rotation='vertical')\n",
        "\n",
        "ax = plt.subplot(111)\n",
        "ax.bar(x-0.2, y_pred, width=0.2, color='b', align='center')\n",
        "ax.bar(x, y_test, width=0.2, color='g', align='center')\n",
        "# plt.scatter(x, y_pred)\n",
        "# plt.scatter(x, y_test)\n",
        "plt.show() "
      ],
      "execution_count": 0,
      "outputs": [
        {
          "output_type": "stream",
          "text": [
            "/usr/local/lib/python3.6/dist-packages/matplotlib/figure.py:98: MatplotlibDeprecationWarning: \n",
            "Adding an axes using the same arguments as a previous axes currently reuses the earlier instance.  In a future version, a new instance will always be created and returned.  Meanwhile, this warning can be suppressed, and the future behavior ensured, by passing a unique label to each axes instance.\n",
            "  \"Adding an axes using the same arguments as a previous axes \"\n"
          ],
          "name": "stderr"
        },
        {
          "output_type": "display_data",
          "data": {
            "image/png": "[encoded data removed]",
            "text/plain": [
              "<Figure size 432x288 with 1 Axes>"
            ]
          },
          "metadata": {
            "tags": []
          }
        }
      ]
    }
  ]
}